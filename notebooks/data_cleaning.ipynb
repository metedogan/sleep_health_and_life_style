{
 "cells": [
  {
   "cell_type": "markdown",
   "id": "baa3782d-2e99-4565-8cb8-c13beed8523c",
   "metadata": {},
   "source": [
    "![Sleep Health and Lifestyle Banner](assets\\banner_image.png)\n",
    "\n",
    "# Sleep Health and Lifestyle\n",
    "\n",
    "This synthetic dataset contains sleep and cardiovascular metrics as well as lifestyle factors of close to 400 fictive persons.\n",
    "\n",
    "The workspace is set up with one CSV file, `data.csv`, with the following columns:\n",
    "\n",
    "- `Person ID`\n",
    "- `Gender`\n",
    "- `Age`\n",
    "- `Occupation`\n",
    "- `Sleep Duration`: Average number of hours of sleep per day\n",
    "- `Quality of Sleep`: A subjective rating on a 1-10 scale\n",
    "- `Physical Activity Level`: Average number of minutes the person engages in physical activity daily\n",
    "- `Stress Level`: A subjective rating on a 1-10 scale\n",
    "- `BMI Category`\n",
    "- `Blood Pressure`: Indicated as systolic pressure over diastolic pressure\n",
    "- `Heart Rate`: In beats per minute\n",
    "- `Daily Steps`\n",
    "- `Sleep Disorder`: One of `None`, `Insomnia` or `Sleep Apnea`\n",
    "\n",
    "Check out the guiding questions or the scenario described below to get started with this dataset!\n",
    "Feel free to make this workspace yours by adding and removing cells, or editing any of the existing cells.\n",
    "\n",
    "Source: [Kaggle](https://www.kaggle.com/datasets/uom190346a/sleep-health-and-lifestyle-dataset/)"
   ]
  },
  {
   "cell_type": "markdown",
   "id": "fb2061d6-9dfb-4e92-a622-e808a989cef9",
   "metadata": {},
   "source": [
    "### 🌎 **Some guiding questions to help you explore this data:**\n",
    "\n",
    "1. Which factors could contribute to a sleep disorder?\n",
    "2. Does an increased physical activity level result in a better quality of sleep?\n",
    "3. Does the presence of a sleep disorder affect the subjective sleep quality metric?"
   ]
  },
  {
   "cell_type": "markdown",
   "id": "a9113642-c73b-4e6b-be9b-0a72c428838d",
   "metadata": {},
   "source": [
    "### 📊 **Visualization ideas**\n",
    "- Boxplot: show the distribution of sleep duration or quality of sleep for each occupation.\n",
    "- Show the link between age and sleep duration with a scatterplot. Consider including information on the sleep disorder."
   ]
  },
  {
   "cell_type": "markdown",
   "id": "8abb3404-93c6-47d5-a74a-16a3051be98b",
   "metadata": {},
   "source": [
    "### 🔍 **Scenario: Automatically identify potential sleep disorders**\n",
    "\n",
    "This scenario helps you develop an end-to-end project for your portfolio.\n",
    "\n",
    "Background: You work for a health insurance company and are tasked to identify whether or not a potential client is likely to have a sleep disorder. The company wants to use this information to determine the premium they want the client to pay.\n",
    "\n",
    "**Objective**: Construct a classifier to predict the presence of a sleep disorder based on the other columns in the dataset.\n",
    "\n",
    "Check out our [Linear Classifiers course](https://app.datacamp.com/learn/courses/linear-classifiers-in-python) (Python) or [Supervised Learning course](https://app.datacamp.com/learn/courses/supervised-learning-in-r-classification) (R) for a quick introduction to building classifiers.\n"
   ]
  },
  {
   "cell_type": "markdown",
   "id": "da089a5a-e577-4d44-92d7-2bafe01ae024",
   "metadata": {},
   "source": [
    "You can query the pre-loaded CSV files using SQL directly. Here’s a **sample query**:"
   ]
  },
  {
   "cell_type": "markdown",
   "id": "25fa9708",
   "metadata": {},
   "source": [
    "# Project"
   ]
  },
  {
   "cell_type": "markdown",
   "id": "89f9f610",
   "metadata": {},
   "source": [
    "## Importing Required Libraries"
   ]
  },
  {
   "cell_type": "code",
   "execution_count": 1,
   "id": "cd18bebc",
   "metadata": {},
   "outputs": [],
   "source": [
    "import pandas as pd\n",
    "import numpy as np\n",
    "import matplotlib.pyplot as plt\n",
    "import seaborn as sns"
   ]
  },
  {
   "cell_type": "markdown",
   "id": "efdf30e4",
   "metadata": {},
   "source": [
    "## Loading Data"
   ]
  }
 ],
 "metadata": {
  "editor": "DataCamp Workspace",
  "kernelspec": {
   "display_name": "base",
   "language": "python",
   "name": "python3"
  },
  "language_info": {
   "codemirror_mode": {
    "name": "ipython",
    "version": 3
   },
   "file_extension": ".py",
   "mimetype": "text/x-python",
   "name": "python",
   "nbconvert_exporter": "python",
   "pygments_lexer": "ipython3",
   "version": "3.11.5"
  }
 },
 "nbformat": 4,
 "nbformat_minor": 5
}
